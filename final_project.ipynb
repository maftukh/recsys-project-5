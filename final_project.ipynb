{
 "cells": [
  {
   "cell_type": "markdown",
   "id": "31ad409e",
   "metadata": {},
   "source": [
    "## Imports"
   ]
  },
  {
   "cell_type": "code",
   "execution_count": 1,
   "id": "5a005403",
   "metadata": {
    "ExecuteTime": {
     "end_time": "2022-03-19T09:46:19.117734Z",
     "start_time": "2022-03-19T09:46:17.841618Z"
    }
   },
   "outputs": [],
   "source": [
    "import os, sys, gzip\n",
    "from ast import literal_eval\n",
    "from itertools import product\n",
    "\n",
    "import numpy as np\n",
    "import pandas as pd\n",
    "\n",
    "from polara import get_movielens_data\n",
    "from polara.preprocessing.dataframes import leave_one_out, reindex\n",
    "\n",
    "from scipy.sparse import coo_matrix, csr_matrix, diags\n",
    "from scipy.sparse.linalg import svds, norm as spnorm\n",
    "\n",
    "from tqdm.notebook import tqdm"
   ]
  },
  {
   "cell_type": "code",
   "execution_count": 2,
   "id": "95919505",
   "metadata": {
    "ExecuteTime": {
     "end_time": "2022-03-19T09:46:19.123369Z",
     "start_time": "2022-03-19T09:46:19.119635Z"
    }
   },
   "outputs": [],
   "source": [
    "import warnings\n",
    "warnings.filterwarnings('ignore')"
   ]
  },
  {
   "cell_type": "markdown",
   "id": "54e56ffb",
   "metadata": {},
   "source": [
    "## Download data"
   ]
  },
  {
   "cell_type": "code",
   "execution_count": 3,
   "id": "ac2e287d",
   "metadata": {
    "ExecuteTime": {
     "end_time": "2022-03-19T09:46:19.134630Z",
     "start_time": "2022-03-19T09:46:19.125122Z"
    }
   },
   "outputs": [],
   "source": [
    "def amazon_data_reader(path):\n",
    "    with gzip.open(path, 'rt') as gz:\n",
    "        for line in gz:\n",
    "            yield literal_eval(line)\n"
   ]
  },
  {
   "cell_type": "code",
   "execution_count": 4,
   "id": "4ed6fa97",
   "metadata": {
    "ExecuteTime": {
     "end_time": "2022-03-19T09:47:58.724075Z",
     "start_time": "2022-03-19T09:46:19.136762Z"
    }
   },
   "outputs": [],
   "source": [
    "if 'reviews_Electronics_5.json.gz' in os.listdir():\n",
    "    pass\n",
    "else:\n",
    "    !wget http://snap.stanford.edu/data/amazon/productGraph/categoryFiles/reviews_Electronics_5.json.gz\n",
    "\n",
    "col_names_mapping = dict(zip(\n",
    "    ['reviewerID', 'asin', 'overall', 'unixReviewTime'],\n",
    "    ['userid', 'itemid', 'rating', 'timestamp']\n",
    "))\n",
    "\n",
    "\n",
    "data_glob = pd.DataFrame.from_records(\n",
    "        amazon_data_reader(f'reviews_Electronics_5.json.gz'),\n",
    "        columns=['reviewerID', 'asin', 'overall', 'unixReviewTime']\n",
    ").rename(columns=col_names_mapping)"
   ]
  },
  {
   "cell_type": "markdown",
   "id": "27feeb1d",
   "metadata": {},
   "source": [
    "## Prepare data"
   ]
  },
  {
   "cell_type": "code",
   "execution_count": 5,
   "id": "1353d310",
   "metadata": {
    "ExecuteTime": {
     "end_time": "2022-03-19T09:47:58.734791Z",
     "start_time": "2022-03-19T09:47:58.729056Z"
    }
   },
   "outputs": [],
   "source": [
    "def get_random_subset(data, size, unique_users=None):\n",
    "    if unique_users is None:\n",
    "        unique_users = data['userid'].unique()\n",
    "    user_subset = np.random.choice(unique_users, size=size)\n",
    "    data = data[data['userid'].isin(user_subset)]\n",
    "    return data"
   ]
  },
  {
   "cell_type": "code",
   "execution_count": 6,
   "id": "2b38aef9",
   "metadata": {
    "ExecuteTime": {
     "end_time": "2022-03-19T09:48:00.599675Z",
     "start_time": "2022-03-19T09:47:58.737039Z"
    }
   },
   "outputs": [
    {
     "name": "stdout",
     "output_type": "stream",
     "text": [
      "(168025, 4)\n"
     ]
    },
    {
     "data": {
      "text/html": [
       "<div>\n",
       "<style scoped>\n",
       "    .dataframe tbody tr th:only-of-type {\n",
       "        vertical-align: middle;\n",
       "    }\n",
       "\n",
       "    .dataframe tbody tr th {\n",
       "        vertical-align: top;\n",
       "    }\n",
       "\n",
       "    .dataframe thead th {\n",
       "        text-align: right;\n",
       "    }\n",
       "</style>\n",
       "<table border=\"1\" class=\"dataframe\">\n",
       "  <thead>\n",
       "    <tr style=\"text-align: right;\">\n",
       "      <th></th>\n",
       "      <th>userid</th>\n",
       "      <th>itemid</th>\n",
       "      <th>rating</th>\n",
       "      <th>timestamp</th>\n",
       "    </tr>\n",
       "  </thead>\n",
       "  <tbody>\n",
       "    <tr>\n",
       "      <th>15</th>\n",
       "      <td>16675</td>\n",
       "      <td>35527</td>\n",
       "      <td>3.0</td>\n",
       "      <td>1377907200</td>\n",
       "    </tr>\n",
       "    <tr>\n",
       "      <th>20</th>\n",
       "      <td>10834</td>\n",
       "      <td>11269</td>\n",
       "      <td>5.0</td>\n",
       "      <td>1323993600</td>\n",
       "    </tr>\n",
       "    <tr>\n",
       "      <th>25</th>\n",
       "      <td>10267</td>\n",
       "      <td>11269</td>\n",
       "      <td>4.0</td>\n",
       "      <td>1368835200</td>\n",
       "    </tr>\n",
       "    <tr>\n",
       "      <th>50</th>\n",
       "      <td>12324</td>\n",
       "      <td>11269</td>\n",
       "      <td>5.0</td>\n",
       "      <td>1388620800</td>\n",
       "    </tr>\n",
       "    <tr>\n",
       "      <th>55</th>\n",
       "      <td>3909</td>\n",
       "      <td>11269</td>\n",
       "      <td>5.0</td>\n",
       "      <td>1390348800</td>\n",
       "    </tr>\n",
       "  </tbody>\n",
       "</table>\n",
       "</div>"
      ],
      "text/plain": [
       "    userid  itemid  rating   timestamp\n",
       "15   16675   35527     3.0  1377907200\n",
       "20   10834   11269     5.0  1323993600\n",
       "25   10267   11269     4.0  1368835200\n",
       "50   12324   11269     5.0  1388620800\n",
       "55    3909   11269     5.0  1390348800"
      ]
     },
     "execution_count": 6,
     "metadata": {},
     "output_type": "execute_result"
    }
   ],
   "source": [
    "# Get data subset\n",
    "# Just for making calculations faster\n",
    "data = get_random_subset(data_glob, size=20000)\n",
    "\n",
    "# Change user and item ids to be indexed by first-occurence-time index \n",
    "user_ids = data.sort_values('timestamp').userid.unique()\n",
    "user_map = dict(zip(user_ids, range(len(user_ids))))\n",
    "data['userid'] = data['userid'].map(user_map)\n",
    "\n",
    "item_ids = data.sort_values('timestamp').itemid.unique()\n",
    "item_map = dict(zip(item_ids, range(len(item_ids))))\n",
    "data['itemid'] = data['itemid'].map(item_map)\n",
    "\n",
    "print(data.shape)\n",
    "data.head()"
   ]
  },
  {
   "cell_type": "markdown",
   "id": "71923f61",
   "metadata": {},
   "source": [
    "### Split data"
   ]
  },
  {
   "cell_type": "code",
   "execution_count": 7,
   "id": "bd7e7242",
   "metadata": {
    "ExecuteTime": {
     "end_time": "2022-03-19T09:48:00.606612Z",
     "start_time": "2022-03-19T09:48:00.601907Z"
    }
   },
   "outputs": [],
   "source": [
    "def train_test_val_split(data, train_size=0.5, test_size=0.2):\n",
    "    assert train_size < 1 - test_size, \"test data should not overlap train data\"\n",
    "\n",
    "    train_ts = data['timestamp'].quantile(train_size)\n",
    "    test_ts = data['timestamp'].quantile(1 - test_size)\n",
    "\n",
    "    train = data.query(f\"timestamp <= @train_ts\")\n",
    "    val = data.query(f\"timestamp > @train_ts and timestamp <= @test_ts\")\n",
    "    val = val.sort_values('timestamp')\n",
    "    test = data.query(f\"timestamp > @test_ts\")\n",
    "    return train, val, test"
   ]
  },
  {
   "cell_type": "code",
   "execution_count": 10,
   "id": "b70931ce",
   "metadata": {
    "ExecuteTime": {
     "end_time": "2022-03-19T09:48:25.545102Z",
     "start_time": "2022-03-19T09:48:25.511339Z"
    }
   },
   "outputs": [
    {
     "data": {
      "text/plain": [
       "((84074, 4), (50351, 4), (33600, 4))"
      ]
     },
     "execution_count": 10,
     "metadata": {},
     "output_type": "execute_result"
    }
   ],
   "source": [
    "train, val, test = train_test_val_split(data, train_size=.5, test_size=.2)\n",
    "\n",
    "train.shape, val.shape, test.shape"
   ]
  },
  {
   "cell_type": "markdown",
   "id": "ccd3660a",
   "metadata": {},
   "source": [
    "## Experiments"
   ]
  },
  {
   "cell_type": "code",
   "execution_count": 11,
   "id": "7665ff93",
   "metadata": {
    "ExecuteTime": {
     "end_time": "2022-03-19T09:48:27.252726Z",
     "start_time": "2022-03-19T09:48:27.244142Z"
    }
   },
   "outputs": [],
   "source": [
    "def algorithm(data, holdout):\n",
    "    pass\n",
    "\n",
    "\n",
    "def calc_metrics(preds, holdout):\n",
    "    pass"
   ]
  },
  {
   "cell_type": "code",
   "execution_count": 20,
   "id": "fd715e04",
   "metadata": {
    "ExecuteTime": {
     "end_time": "2022-03-19T09:59:23.386463Z",
     "start_time": "2022-03-19T09:59:23.365850Z"
    }
   },
   "outputs": [
    {
     "data": {
      "text/plain": [
       "((35264, 4), (50351, 4))"
      ]
     },
     "execution_count": 20,
     "metadata": {},
     "output_type": "execute_result"
    }
   ],
   "source": [
    "max_user_id = train.userid.max()\n",
    "val.query('userid <= @max_user_id').shape, val.shape"
   ]
  },
  {
   "cell_type": "code",
   "execution_count": 12,
   "id": "fdd79ae5",
   "metadata": {
    "ExecuteTime": {
     "end_time": "2022-03-19T09:48:31.561456Z",
     "start_time": "2022-03-19T09:48:31.551106Z"
    }
   },
   "outputs": [],
   "source": [
    "def get_validation_subset(val, start_idx=0, bs=2048):\n",
    "    return val.iloc[start_idx: start_idx + bs]\n",
    "    #return val.iloc[start_idx: ] - in case of getting all the validation data\n",
    "    \n",
    "\n",
    "def prepare_holdout(val_set, train_set):\n",
    "    # Get first interaction for each user in validation set\n",
    "    holdout = val_set.drop_duplicates(subset='userid', keep='first')\n",
    "    \n",
    "    # We do not predict for user having 0 interactions\n",
    "    max_user_id = train_set.userid.max()\n",
    "    holdout = holdout.query(\"userid <= @max_user_id\")\n",
    "    if holdout.shape[0] == 0:\n",
    "        warnings.warn(\"WARNING: holdout has no valid user for predicting\")\n",
    "    return holdout"
   ]
  },
  {
   "cell_type": "code",
   "execution_count": 13,
   "id": "31257945",
   "metadata": {
    "ExecuteTime": {
     "end_time": "2022-03-19T09:48:33.556781Z",
     "start_time": "2022-03-19T09:48:33.547560Z"
    }
   },
   "outputs": [],
   "source": [
    "def update_train(train, val):\n",
    "    return pd.concat([train, val], axis=0)"
   ]
  },
  {
   "cell_type": "code",
   "execution_count": 14,
   "id": "28af1550",
   "metadata": {
    "ExecuteTime": {
     "end_time": "2022-03-19T09:48:57.907891Z",
     "start_time": "2022-03-19T09:48:57.902587Z"
    }
   },
   "outputs": [],
   "source": [
    "def get_sparse_matrix(data, sparse_format='csr'):\n",
    "    # Extract required data \n",
    "    user_idx = data['userid'].values\n",
    "    item_idx = data['itemid'].values\n",
    "    ratings = data['rating'].values\n",
    "\n",
    "    n_users = data['userid'].nunique()\n",
    "    n_items = data['itemid'].nunique()\n",
    "    shape = (n_users, n_items)\n",
    "        \n",
    "    # Create a sparse user-item interaction matrix of specified format\n",
    "    sparse_matrix_foos = {\n",
    "        'csr': csr_matrix,\n",
    "        'coo': coo_matrix\n",
    "    }\n",
    "    sparse_foo = sparse_matrix_foos[sparse_format] \n",
    "    user_item_mtx = sparse_foo((ratings, (user_idx, item_idx)), shape=shape, dtype='float64')\n",
    "    return user_item_mtx"
   ]
  },
  {
   "cell_type": "code",
   "execution_count": 16,
   "id": "f4eadcb4",
   "metadata": {
    "ExecuteTime": {
     "end_time": "2022-03-19T09:49:26.491412Z",
     "start_time": "2022-03-19T09:49:26.325406Z"
    }
   },
   "outputs": [
    {
     "data": {
      "application/vnd.jupyter.widget-view+json": {
       "model_id": "e4ec908b879246d699337ac4a0a34cc8",
       "version_major": 2,
       "version_minor": 0
      },
      "text/plain": [
       "  0%|          | 0/24 [00:00<?, ?it/s]"
      ]
     },
     "metadata": {},
     "output_type": "display_data"
    }
   ],
   "source": [
    "# Add validation data batch by batch\n",
    "bs = 2048\n",
    "start_idx = 0\n",
    "cur_train = train.copy()\n",
    "\n",
    "metrics_arr = []\n",
    "\n",
    "for i in tqdm(range(val.shape[0] // bs)):\n",
    "    # get current validation data\n",
    "    cur_val = get_validation_subset(val, start_idx, bs)\n",
    "    # turn it into a holdout\n",
    "    holdout = prepare_holdout(cur_val, cur_train)\n",
    "\n",
    "    # apply algorithms, get predictions\n",
    "    preds = algorithm(cur_train, holdout)\n",
    "    # calculate metrics\n",
    "    metrics = calc_metrics(preds, holdout)\n",
    "    metrics_arr.append(metrics)\n",
    "    \n",
    "    # update train data\n",
    "    cur_train = update_train(cur_train, cur_val)\n",
    "    \n",
    "    start_idx += bs"
   ]
  }
 ],
 "metadata": {
  "kernelspec": {
   "display_name": "Python 3 (ipykernel)",
   "language": "python",
   "name": "python3"
  },
  "language_info": {
   "codemirror_mode": {
    "name": "ipython",
    "version": 3
   },
   "file_extension": ".py",
   "mimetype": "text/x-python",
   "name": "python",
   "nbconvert_exporter": "python",
   "pygments_lexer": "ipython3",
   "version": "3.8.10"
  },
  "toc": {
   "base_numbering": 1,
   "nav_menu": {},
   "number_sections": true,
   "sideBar": true,
   "skip_h1_title": false,
   "title_cell": "Table of Contents",
   "title_sidebar": "Contents",
   "toc_cell": false,
   "toc_position": {},
   "toc_section_display": true,
   "toc_window_display": false
  }
 },
 "nbformat": 4,
 "nbformat_minor": 5
}
