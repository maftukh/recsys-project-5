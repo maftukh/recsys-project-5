{
  "cells": [
    {
      "cell_type": "markdown",
      "id": "31ad409e",
      "metadata": {
        "id": "31ad409e"
      },
      "source": [
        "# Import Packages"
      ]
    },
    {
      "cell_type": "code",
      "execution_count": 54,
      "id": "5a005403",
      "metadata": {
        "ExecuteTime": {
          "end_time": "2022-03-19T09:46:19.117734Z",
          "start_time": "2022-03-19T09:46:17.841618Z"
        },
        "id": "5a005403"
      },
      "outputs": [],
      "source": [
        "import os\n",
        "import sys\n",
        "import gzip\n",
        "\n",
        "import numpy as np\n",
        "import scipy as sp\n",
        "import pandas as pd\n",
        "import matplotlib.pyplot as plt\n",
        "import time\n",
        "import requests\n",
        "\n",
        "from ast import literal_eval\n",
        "from itertools import product\n",
        "\n",
        "from scipy.sparse import coo_matrix, csr_matrix, diags\n",
        "from scipy.sparse.linalg import svds, norm as spnorm\n",
        "\n",
        "from numpy.linalg import qr, svd\n",
        "\n",
        "from tqdm import tqdm\n",
        "from evaluation import model_evaluate, simple_model_recom_func, downvote_seen_items\n",
        "\n",
        "import warnings\n",
        "warnings.filterwarnings('ignore')\n",
        "\n",
        "np.random.seed(2022)"
      ]
    },
    {
      "cell_type": "markdown",
      "id": "54e56ffb",
      "metadata": {
        "id": "54e56ffb"
      },
      "source": [
        "# Download Data"
      ]
    },
    {
      "cell_type": "code",
      "execution_count": 31,
      "id": "ac2e287d",
      "metadata": {
        "ExecuteTime": {
          "end_time": "2022-03-19T09:46:19.134630Z",
          "start_time": "2022-03-19T09:46:19.125122Z"
        },
        "id": "ac2e287d"
      },
      "outputs": [],
      "source": [
        "def amazon_data_reader(path):\n",
        "    with gzip.open(path, 'rt') as gz:\n",
        "        for line in gz:\n",
        "            yield literal_eval(line)"
      ]
    },
    {
      "cell_type": "code",
      "source": [
        "def get_amazon_data(json_filename = 'reviews_Electronics_5.json.gz',\n",
        "                    url_json = 'http://snap.stanford.edu/data/amazon/productGraph/categoryFiles/reviews_Electronics_5.json.gz'):\n",
        "    \n",
        "    if json_filename in os.listdir():\n",
        "        pass\n",
        "    else:\n",
        "        r = requests.get(url_json)\n",
        "        with open(json_filename , 'wb') as f:\n",
        "            f.write(r.content)\n",
        "\n",
        "    col_names_mapping = dict(zip(\n",
        "        ['reviewerID', 'asin', 'overall', 'unixReviewTime'],\n",
        "        ['userid', 'itemid', 'rating', 'timestamp']\n",
        "    ))\n",
        "\n",
        "    pure_data = pd.DataFrame.from_records(\n",
        "        amazon_data_reader(json_filename),\n",
        "        columns=['reviewerID', 'asin', 'overall', 'unixReviewTime']\n",
        "    ).rename(columns=col_names_mapping)\n",
        "\n",
        "    return pure_data"
      ],
      "metadata": {
        "id": "0Sg4TTZNL2Xk"
      },
      "id": "0Sg4TTZNL2Xk",
      "execution_count": 32,
      "outputs": []
    },
    {
      "cell_type": "code",
      "execution_count": 23,
      "id": "4ed6fa97",
      "metadata": {
        "ExecuteTime": {
          "end_time": "2022-03-19T09:47:58.724075Z",
          "start_time": "2022-03-19T09:46:19.136762Z"
        },
        "colab": {
          "base_uri": "https://localhost:8080/"
        },
        "id": "4ed6fa97",
        "outputId": "eb4d41a8-29a1-4d86-e734-6acfe2ec2354"
      },
      "outputs": [
        {
          "output_type": "stream",
          "name": "stdout",
          "text": [
            "CPU times: user 1min 57s, sys: 4.84 s, total: 2min 2s\n",
            "Wall time: 2min 2s\n"
          ]
        }
      ],
      "source": [
        "%%time\n",
        "pure_data = get_amazon_data()    "
      ]
    },
    {
      "cell_type": "code",
      "source": [
        "pure_data.shape"
      ],
      "metadata": {
        "colab": {
          "base_uri": "https://localhost:8080/"
        },
        "id": "Pi9NJDy9M3QE",
        "outputId": "78053436-3920-47c1-ba25-71780bfa328e"
      },
      "id": "Pi9NJDy9M3QE",
      "execution_count": 24,
      "outputs": [
        {
          "output_type": "execute_result",
          "data": {
            "text/plain": [
              "(1689188, 4)"
            ]
          },
          "metadata": {},
          "execution_count": 24
        }
      ]
    },
    {
      "cell_type": "markdown",
      "id": "27feeb1d",
      "metadata": {
        "id": "27feeb1d"
      },
      "source": [
        "# Prepare Data"
      ]
    },
    {
      "cell_type": "code",
      "execution_count": 55,
      "id": "1353d310",
      "metadata": {
        "ExecuteTime": {
          "end_time": "2022-03-19T09:47:58.734791Z",
          "start_time": "2022-03-19T09:47:58.729056Z"
        },
        "id": "1353d310"
      },
      "outputs": [],
      "source": [
        "def get_random_user_subset(data, size, unique_users=None):\n",
        "    \n",
        "    if unique_users is None:\n",
        "        unique_users = data['userid'].unique()\n",
        "        \n",
        "    user_subset = np.random.choice(unique_users, size=size)\n",
        "    data = data[data['userid'].isin(user_subset)]\n",
        "    \n",
        "    return data\n",
        "\n",
        "def get_chronological_sorted_data(data):\n",
        "    # change user and item ids to be indexed in chronological order\n",
        "    user_ids = data.sort_values('timestamp')['userid'].unique()\n",
        "    user_map = dict(zip(user_ids, range(len(user_ids))))\n",
        "    data['userid'] = data['userid'].map(user_map)\n",
        "\n",
        "    item_ids = data.sort_values('timestamp')['itemid'].unique()\n",
        "    item_map = dict(zip(item_ids, range(len(item_ids))))\n",
        "    data['itemid'] = data['itemid'].map(item_map)\n",
        "    \n",
        "    return data"
      ]
    },
    {
      "cell_type": "code",
      "execution_count": 56,
      "id": "2b38aef9",
      "metadata": {
        "ExecuteTime": {
          "end_time": "2022-03-19T09:48:00.599675Z",
          "start_time": "2022-03-19T09:47:58.737039Z"
        },
        "colab": {
          "base_uri": "https://localhost:8080/"
        },
        "id": "2b38aef9",
        "outputId": "b78c5cbb-ec40-415e-d7e5-b9f3436cdb06"
      },
      "outputs": [
        {
          "output_type": "stream",
          "name": "stdout",
          "text": [
            "(166436, 4)\n"
          ]
        }
      ],
      "source": [
        "# prepare data subset in order to make computations faster\n",
        "data = get_random_user_subset(pure_data, size=20000)\n",
        "data = get_chronological_sorted_data(data)\n",
        "\n",
        "print(data.shape)"
      ]
    },
    {
      "cell_type": "code",
      "execution_count": 36,
      "id": "67e5baa8",
      "metadata": {
        "colab": {
          "base_uri": "https://localhost:8080/",
          "height": 204
        },
        "id": "67e5baa8",
        "outputId": "bf73141a-1201-483a-838f-d61d6b88ad1c"
      },
      "outputs": [
        {
          "output_type": "execute_result",
          "data": {
            "text/plain": [
              "    userid  itemid  rating   timestamp\n",
              "9      167   39505     5.0  1390176000\n",
              "24   14296    3976     4.0  1389052800\n",
              "65   14050    3976     4.0  1384300800\n",
              "80   10335    3976     5.0  1335916800\n",
              "83   18606    3976     5.0  1395446400"
            ],
            "text/html": [
              "\n",
              "  <div id=\"df-9925cfa3-e59e-40cd-a258-d93da70ca6ba\">\n",
              "    <div class=\"colab-df-container\">\n",
              "      <div>\n",
              "<style scoped>\n",
              "    .dataframe tbody tr th:only-of-type {\n",
              "        vertical-align: middle;\n",
              "    }\n",
              "\n",
              "    .dataframe tbody tr th {\n",
              "        vertical-align: top;\n",
              "    }\n",
              "\n",
              "    .dataframe thead th {\n",
              "        text-align: right;\n",
              "    }\n",
              "</style>\n",
              "<table border=\"1\" class=\"dataframe\">\n",
              "  <thead>\n",
              "    <tr style=\"text-align: right;\">\n",
              "      <th></th>\n",
              "      <th>userid</th>\n",
              "      <th>itemid</th>\n",
              "      <th>rating</th>\n",
              "      <th>timestamp</th>\n",
              "    </tr>\n",
              "  </thead>\n",
              "  <tbody>\n",
              "    <tr>\n",
              "      <th>9</th>\n",
              "      <td>167</td>\n",
              "      <td>39505</td>\n",
              "      <td>5.0</td>\n",
              "      <td>1390176000</td>\n",
              "    </tr>\n",
              "    <tr>\n",
              "      <th>24</th>\n",
              "      <td>14296</td>\n",
              "      <td>3976</td>\n",
              "      <td>4.0</td>\n",
              "      <td>1389052800</td>\n",
              "    </tr>\n",
              "    <tr>\n",
              "      <th>65</th>\n",
              "      <td>14050</td>\n",
              "      <td>3976</td>\n",
              "      <td>4.0</td>\n",
              "      <td>1384300800</td>\n",
              "    </tr>\n",
              "    <tr>\n",
              "      <th>80</th>\n",
              "      <td>10335</td>\n",
              "      <td>3976</td>\n",
              "      <td>5.0</td>\n",
              "      <td>1335916800</td>\n",
              "    </tr>\n",
              "    <tr>\n",
              "      <th>83</th>\n",
              "      <td>18606</td>\n",
              "      <td>3976</td>\n",
              "      <td>5.0</td>\n",
              "      <td>1395446400</td>\n",
              "    </tr>\n",
              "  </tbody>\n",
              "</table>\n",
              "</div>\n",
              "      <button class=\"colab-df-convert\" onclick=\"convertToInteractive('df-9925cfa3-e59e-40cd-a258-d93da70ca6ba')\"\n",
              "              title=\"Convert this dataframe to an interactive table.\"\n",
              "              style=\"display:none;\">\n",
              "        \n",
              "  <svg xmlns=\"http://www.w3.org/2000/svg\" height=\"24px\"viewBox=\"0 0 24 24\"\n",
              "       width=\"24px\">\n",
              "    <path d=\"M0 0h24v24H0V0z\" fill=\"none\"/>\n",
              "    <path d=\"M18.56 5.44l.94 2.06.94-2.06 2.06-.94-2.06-.94-.94-2.06-.94 2.06-2.06.94zm-11 1L8.5 8.5l.94-2.06 2.06-.94-2.06-.94L8.5 2.5l-.94 2.06-2.06.94zm10 10l.94 2.06.94-2.06 2.06-.94-2.06-.94-.94-2.06-.94 2.06-2.06.94z\"/><path d=\"M17.41 7.96l-1.37-1.37c-.4-.4-.92-.59-1.43-.59-.52 0-1.04.2-1.43.59L10.3 9.45l-7.72 7.72c-.78.78-.78 2.05 0 2.83L4 21.41c.39.39.9.59 1.41.59.51 0 1.02-.2 1.41-.59l7.78-7.78 2.81-2.81c.8-.78.8-2.07 0-2.86zM5.41 20L4 18.59l7.72-7.72 1.47 1.35L5.41 20z\"/>\n",
              "  </svg>\n",
              "      </button>\n",
              "      \n",
              "  <style>\n",
              "    .colab-df-container {\n",
              "      display:flex;\n",
              "      flex-wrap:wrap;\n",
              "      gap: 12px;\n",
              "    }\n",
              "\n",
              "    .colab-df-convert {\n",
              "      background-color: #E8F0FE;\n",
              "      border: none;\n",
              "      border-radius: 50%;\n",
              "      cursor: pointer;\n",
              "      display: none;\n",
              "      fill: #1967D2;\n",
              "      height: 32px;\n",
              "      padding: 0 0 0 0;\n",
              "      width: 32px;\n",
              "    }\n",
              "\n",
              "    .colab-df-convert:hover {\n",
              "      background-color: #E2EBFA;\n",
              "      box-shadow: 0px 1px 2px rgba(60, 64, 67, 0.3), 0px 1px 3px 1px rgba(60, 64, 67, 0.15);\n",
              "      fill: #174EA6;\n",
              "    }\n",
              "\n",
              "    [theme=dark] .colab-df-convert {\n",
              "      background-color: #3B4455;\n",
              "      fill: #D2E3FC;\n",
              "    }\n",
              "\n",
              "    [theme=dark] .colab-df-convert:hover {\n",
              "      background-color: #434B5C;\n",
              "      box-shadow: 0px 1px 3px 1px rgba(0, 0, 0, 0.15);\n",
              "      filter: drop-shadow(0px 1px 2px rgba(0, 0, 0, 0.3));\n",
              "      fill: #FFFFFF;\n",
              "    }\n",
              "  </style>\n",
              "\n",
              "      <script>\n",
              "        const buttonEl =\n",
              "          document.querySelector('#df-9925cfa3-e59e-40cd-a258-d93da70ca6ba button.colab-df-convert');\n",
              "        buttonEl.style.display =\n",
              "          google.colab.kernel.accessAllowed ? 'block' : 'none';\n",
              "\n",
              "        async function convertToInteractive(key) {\n",
              "          const element = document.querySelector('#df-9925cfa3-e59e-40cd-a258-d93da70ca6ba');\n",
              "          const dataTable =\n",
              "            await google.colab.kernel.invokeFunction('convertToInteractive',\n",
              "                                                     [key], {});\n",
              "          if (!dataTable) return;\n",
              "\n",
              "          const docLinkHtml = 'Like what you see? Visit the ' +\n",
              "            '<a target=\"_blank\" href=https://colab.research.google.com/notebooks/data_table.ipynb>data table notebook</a>'\n",
              "            + ' to learn more about interactive tables.';\n",
              "          element.innerHTML = '';\n",
              "          dataTable['output_type'] = 'display_data';\n",
              "          await google.colab.output.renderOutput(dataTable, element);\n",
              "          const docLink = document.createElement('div');\n",
              "          docLink.innerHTML = docLinkHtml;\n",
              "          element.appendChild(docLink);\n",
              "        }\n",
              "      </script>\n",
              "    </div>\n",
              "  </div>\n",
              "  "
            ]
          },
          "metadata": {},
          "execution_count": 36
        }
      ],
      "source": [
        "data.head()"
      ]
    },
    {
      "cell_type": "markdown",
      "id": "71923f61",
      "metadata": {
        "id": "71923f61"
      },
      "source": [
        "### split into base and future"
      ]
    },
    {
      "cell_type": "code",
      "execution_count": 58,
      "id": "bd7e7242",
      "metadata": {
        "ExecuteTime": {
          "end_time": "2022-03-19T09:48:00.606612Z",
          "start_time": "2022-03-19T09:48:00.601907Z"
        },
        "id": "bd7e7242"
      },
      "outputs": [],
      "source": [
        "def base_future_split(data, base_size=0.5):\n",
        "\n",
        "    ts_base = data['timestamp'].quantile(base_size)\n",
        "\n",
        "    data_base = (\n",
        "        data\n",
        "        .query(f\"timestamp <= @ts_base\")\n",
        "        .sort_values('timestamp')\n",
        "    )\n",
        "    \n",
        "    data_future = (\n",
        "        data\n",
        "        .query(f\"timestamp > @ts_base\")\n",
        "        .sort_values('timestamp')\n",
        "    )\n",
        "    \n",
        "    return data_base, data_future"
      ]
    },
    {
      "cell_type": "code",
      "execution_count": 59,
      "id": "b70931ce",
      "metadata": {
        "ExecuteTime": {
          "end_time": "2022-03-19T09:48:25.545102Z",
          "start_time": "2022-03-19T09:48:25.511339Z"
        },
        "id": "b70931ce"
      },
      "outputs": [],
      "source": [
        "data_base, data_future = base_future_split(data, base_size=0.5)"
      ]
    },
    {
      "cell_type": "code",
      "execution_count": 60,
      "id": "6e22f783",
      "metadata": {
        "colab": {
          "base_uri": "https://localhost:8080/"
        },
        "id": "6e22f783",
        "outputId": "b8ecb71e-99dc-4deb-8bf6-88ecf6e45c2a"
      },
      "outputs": [
        {
          "output_type": "execute_result",
          "data": {
            "text/plain": [
              "(83324, 83112)"
            ]
          },
          "metadata": {},
          "execution_count": 60
        }
      ],
      "source": [
        "len(data_base), len(data_future)"
      ]
    },
    {
      "cell_type": "markdown",
      "id": "addfbb5a",
      "metadata": {
        "id": "addfbb5a"
      },
      "source": [
        "# Prepare Functions"
      ]
    },
    {
      "cell_type": "markdown",
      "id": "bb46ea30",
      "metadata": {
        "id": "bb46ea30"
      },
      "source": [
        "### transform dataframe into matrix"
      ]
    },
    {
      "cell_type": "code",
      "execution_count": 61,
      "id": "c8b02978",
      "metadata": {
        "id": "c8b02978"
      },
      "outputs": [],
      "source": [
        "def to_matrix(data, description):\n",
        "    user_ids, item_ids = data[description['users']], data[description['items']]\n",
        "    \n",
        "    ratings = data[description['feedback']]\n",
        "    shape = (description['n_users'], description['n_items'])\n",
        "    \n",
        "    return csr_matrix((ratings, (user_ids, item_ids)), shape)"
      ]
    },
    {
      "cell_type": "markdown",
      "id": "e103dd6a",
      "metadata": {
        "id": "e103dd6a"
      },
      "source": [
        "### construct basic SVD model"
      ]
    },
    {
      "cell_type": "code",
      "execution_count": 62,
      "id": "faef61dc",
      "metadata": {
        "id": "faef61dc"
      },
      "outputs": [],
      "source": [
        "def get_svd_model(matrix, rank):\n",
        "    u, s, vt = svds(matrix, k=rank)\n",
        "    \n",
        "    U = np.ascontiguousarray(u[:, ::-1])\n",
        "    V = np.ascontiguousarray(vt[::-1, :].T)\n",
        "    s = s[::-1]\n",
        "    \n",
        "    params = U, s, V\n",
        "    return params"
      ]
    },
    {
      "cell_type": "markdown",
      "id": "67280987",
      "metadata": {
        "id": "67280987"
      },
      "source": [
        "### update SVD factors using new interactions"
      ]
    },
    {
      "cell_type": "code",
      "execution_count": 63,
      "id": "ce677981",
      "metadata": {
        "id": "ce677981"
      },
      "outputs": [],
      "source": [
        "def update_svd_model_using_interactions(params_base, A_new, verbose=False):\n",
        "    U_base, s_base, V_base = params_base\n",
        "    S_base = np.diag(s_base)\n",
        "    \n",
        "    # m is number of users and n is number of items\n",
        "    \n",
        "    temp = A_new @ V_base # m x r\n",
        "    rank = len(s_base)\n",
        "    \n",
        "    # 1st step\n",
        "    K = U_base @ S_base + temp # m x r\n",
        "    if verbose: print('1st step done!')\n",
        "    \n",
        "    # 2nd step\n",
        "    U_updated, _ = qr(K) # m x r, r x r\n",
        "    if verbose: print('2nd step done!')\n",
        "    \n",
        "    # 3rd step\n",
        "    _ = _ - U_updated.T @ temp # r x r\n",
        "    if verbose: print('3rd step done!')\n",
        "    \n",
        "    # 4th step\n",
        "    L = V_base @ _.T + A_new.T @ U_updated # n x r\n",
        "    if verbose: print('4th step done!')\n",
        "    \n",
        "    # 5th step\n",
        "    V_updated, S_updated = qr(L) # n x r, r x r\n",
        "    if verbose: print('5th step done!')\n",
        "    \n",
        "    params_updated = U_updated, np.diag(S_updated), V_updated\n",
        "    return params_updated"
      ]
    },
    {
      "cell_type": "markdown",
      "id": "165b6a64",
      "metadata": {
        "id": "165b6a64"
      },
      "source": [
        "### update SVD factors using new users and items"
      ]
    },
    {
      "cell_type": "code",
      "execution_count": 64,
      "id": "62cd8f6b",
      "metadata": {
        "id": "62cd8f6b"
      },
      "outputs": [],
      "source": [
        "def svd_col_expansion(U, s, Vt, C):\n",
        "    rank = len(s)\n",
        "    C = C[:U.shape[0]]\n",
        "\n",
        "    L = U.T @ C\n",
        "    H = C - U @ L\n",
        "    J, K = qr(H)\n",
        "    \n",
        "    volume = np.sqrt(np.linalg.det(K.T @ K))\n",
        "\n",
        "    Q = np.block([\n",
        "        [np.diag(s),                     L],\n",
        "        [np.zeros((K.shape[0], len(s))), K]\n",
        "    ])\n",
        "    \n",
        "    U_q, s_q, Vt_q = svd(Q, full_matrices=True)\n",
        "\n",
        "    U_new = np.hstack((U, J)) @ U_q\n",
        "    s_new = s_q\n",
        "    \n",
        "    Vt_new = Vt_q @ np.block([\n",
        "        [Vt,                                  np.zeros((Vt.shape[0], C.shape[1]))],\n",
        "        [np.zeros((C.shape[1], Vt.shape[1])), np.eye(C.shape[1])]\n",
        "    ])\n",
        "\n",
        "    return U_new[:,:rank], s_new[:rank], Vt_new[:rank,:]"
      ]
    },
    {
      "cell_type": "code",
      "execution_count": 65,
      "id": "8bd3e73a",
      "metadata": {
        "id": "8bd3e73a"
      },
      "outputs": [],
      "source": [
        "def update_svd_model_using_users_and_items(params_base, R, C):\n",
        "    \n",
        "    if C.shape[1] > 0:\n",
        "        U_base, s_base, V_base = params_base\n",
        "        _, s_new, Vt_new = svd_col_expansion(U_base, s_base, V_base.T, C)\n",
        "        V_new = Vt_new.T\n",
        "    \n",
        "    if R.shape[0] > 0:\n",
        "        U_base, s_base, V_base = params_base\n",
        "        _, s_new, Ut_new = svd_col_expansion(V_base, s_new, U_base.T, R.T)\n",
        "        U_new = Ut_new.T\n",
        "    \n",
        "    return U_new, s_new, V_new"
      ]
    },
    {
      "cell_type": "markdown",
      "id": "ac5d4c3a",
      "metadata": {
        "id": "ac5d4c3a"
      },
      "source": [
        "### score using SVD"
      ]
    },
    {
      "cell_type": "code",
      "execution_count": 66,
      "id": "cb76da44",
      "metadata": {
        "id": "cb76da44"
      },
      "outputs": [],
      "source": [
        "def score_svd_model(params, matrix):\n",
        "    _, _, V = params\n",
        "    scores = matrix @ V @ V.T\n",
        "    \n",
        "    return scores"
      ]
    },
    {
      "cell_type": "markdown",
      "id": "37fea457",
      "metadata": {
        "id": "37fea457"
      },
      "source": [
        "### prepare future and holdout"
      ]
    },
    {
      "cell_type": "code",
      "execution_count": 67,
      "id": "e7c95b1e",
      "metadata": {
        "id": "e7c95b1e"
      },
      "outputs": [],
      "source": [
        "def get_holdout_subset(data_base, data_future):\n",
        "    # get first interaction for each user in validation set\n",
        "    data_holdout = data_future.drop_duplicates(subset='userid', keep='first')\n",
        "    \n",
        "    # remove completely new users or items\n",
        "    user_ids = data_base['userid'].unique()\n",
        "    data_holdout = data_holdout.query(\"userid in @user_ids\")\n",
        "    \n",
        "    item_ids = data_base['itemid'].unique()\n",
        "    data_holdout = data_holdout.query(\"itemid in @item_ids\")\n",
        "    \n",
        "    if data_holdout.shape[0] == 0:\n",
        "        warnings.warn(\"WARNING: holdout has no valid user for predicting\")\n",
        "        \n",
        "    return data_holdout"
      ]
    },
    {
      "cell_type": "code",
      "execution_count": 68,
      "id": "219c8745",
      "metadata": {
        "id": "219c8745"
      },
      "outputs": [],
      "source": [
        "def get_future_subsets(data_future, n_steps=20):\n",
        "    ts_min, ts_max = data_future['timestamp'].min(), data_future['timestamp'].max() + 1\n",
        "    checkpoints = np.linspace(ts_min, ts_max, n_steps + 1)\n",
        "    \n",
        "    splits = []\n",
        "    start_times = checkpoints[:-1]\n",
        "    stop_times = np.roll(checkpoints, -1)[:-1]\n",
        "    \n",
        "    for start, stop in zip(start_times, stop_times):\n",
        "        split = data_future.query(f\"timestamp >= @start and timestamp < @stop\")\n",
        "        \n",
        "        if split.shape[0] == 0:\n",
        "            warnings.warn(\"WARNING: validation split time period has no observation\")\n",
        "        \n",
        "        splits.append(split)\n",
        "    \n",
        "    return splits, start_times, stop_times"
      ]
    },
    {
      "cell_type": "markdown",
      "id": "f191070e",
      "metadata": {
        "id": "f191070e"
      },
      "source": [
        "### some utils"
      ]
    },
    {
      "cell_type": "code",
      "execution_count": 69,
      "id": "05f52a76",
      "metadata": {
        "id": "05f52a76"
      },
      "outputs": [],
      "source": [
        "def get_updated_base(data_base, data_future):\n",
        "    return pd.concat([data_base, data_future])"
      ]
    },
    {
      "cell_type": "code",
      "execution_count": 70,
      "id": "0bdef37b",
      "metadata": {
        "id": "0bdef37b"
      },
      "outputs": [],
      "source": [
        "def count_new_users_and_items(data_base_current, data_future_current):\n",
        "    user_ids_base, item_ids_base = data_base_current['userid'].unique(), data_base_current['itemid'].unique()\n",
        "    \n",
        "    n_new_users = data_future_current[\n",
        "        ~data_future_current['userid'].isin(user_ids_base)\n",
        "    ]['userid'].nunique()\n",
        "    \n",
        "    n_new_items = data_future_current[\n",
        "        ~data_future_current['itemid'].isin(item_ids_base)\n",
        "    ]['itemid'].nunique()\n",
        "    \n",
        "    return n_new_users, n_new_items"
      ]
    },
    {
      "cell_type": "markdown",
      "id": "ccd3660a",
      "metadata": {
        "id": "ccd3660a"
      },
      "source": [
        "# Conduct Experiments"
      ]
    },
    {
      "cell_type": "code",
      "execution_count": 71,
      "id": "b66c8d1b",
      "metadata": {
        "id": "b66c8d1b"
      },
      "outputs": [],
      "source": [
        "rank = 256\n",
        "n_top = 20\n",
        "n_steps = 20"
      ]
    },
    {
      "cell_type": "markdown",
      "id": "cfda26f8",
      "metadata": {
        "id": "cfda26f8"
      },
      "source": [
        "### perform experiments with direct recomputation of SVD"
      ]
    },
    {
      "cell_type": "code",
      "execution_count": 72,
      "id": "404985ce",
      "metadata": {
        "id": "404985ce"
      },
      "outputs": [],
      "source": [
        "description = {\n",
        "    'users': 'userid',\n",
        "    'items': 'itemid',\n",
        "    'feedback': 'rating',\n",
        "    \n",
        "    'n_users': data_base['userid'].nunique(),\n",
        "    'n_items': data_base['itemid'].nunique(),\n",
        "}"
      ]
    },
    {
      "cell_type": "code",
      "execution_count": 73,
      "id": "8c7132b9",
      "metadata": {
        "id": "8c7132b9"
      },
      "outputs": [],
      "source": [
        "data_base_current = data_base.copy()\n",
        "matrix_base_current = to_matrix(data_base_current, description)"
      ]
    },
    {
      "cell_type": "code",
      "execution_count": 74,
      "id": "3ce87a11",
      "metadata": {
        "colab": {
          "base_uri": "https://localhost:8080/"
        },
        "id": "3ce87a11",
        "outputId": "34428363-122a-4613-dfb2-5f3a4487e4f5"
      },
      "outputs": [
        {
          "output_type": "stream",
          "name": "stdout",
          "text": [
            "CPU times: user 34 s, sys: 2.16 s, total: 36.2 s\n",
            "Wall time: 19.1 s\n"
          ]
        }
      ],
      "source": [
        "%%time\n",
        "params_current = get_svd_model(matrix_base_current, rank)"
      ]
    },
    {
      "cell_type": "code",
      "execution_count": 75,
      "id": "b465b394",
      "metadata": {
        "scrolled": true,
        "colab": {
          "base_uri": "https://localhost:8080/"
        },
        "id": "b465b394",
        "outputId": "ac7c498c-ce03-4108-fbfc-277b97a19917"
      },
      "outputs": [
        {
          "output_type": "stream",
          "name": "stderr",
          "text": [
            "100%|██████████| 20/20 [09:34<00:00, 28.73s/it]\n"
          ]
        }
      ],
      "source": [
        "basic_performance_history = []\n",
        "basic_time_history = []\n",
        "\n",
        "verbose = False\n",
        "\n",
        "splits, start_times, stop_times = get_future_subsets(data_future, n_steps)\n",
        "\n",
        "for split in tqdm(splits):\n",
        "    \n",
        "    ## ------------------------------------------- prepare data -------------------------------------------\n",
        "    \n",
        "    # get current valid\n",
        "    data_future_current = split\n",
        "    \n",
        "    # extract holdout from valid\n",
        "    data_holdout = get_holdout_subset(data_base_current, data_future_current)\n",
        "    \n",
        "    # prepare matrix for holdout users\n",
        "    user_ids_holdout = data_holdout['userid'].values\n",
        "    matrix_observed = matrix_base_current[user_ids_holdout]\n",
        "    \n",
        "    # prepare observed in order to downvote after scoring\n",
        "    data_observed = data_base_current.query('userid in @user_ids_holdout')\n",
        "    \n",
        "    # prepare holdout and observed for evaluating — reindex users\n",
        "    reindex_map = dict(zip(user_ids_holdout, np.arange(len(user_ids_holdout))))\n",
        "    \n",
        "    for _ in [data_holdout, data_observed]:\n",
        "        _.loc[:, 'userid'] = _['userid'].map(reindex_map)\n",
        "        \n",
        "    ## ---------------------------------- perform scoring and evaluation ----------------------------------\n",
        "\n",
        "    # score holdout users\n",
        "    scores = score_svd_model(params_current, matrix_observed)\n",
        "    if verbose: print('scoring done!')\n",
        "    \n",
        "    # downvote items which occured on train\n",
        "    downvote_seen_items(scores, data_observed, description)\n",
        "    \n",
        "    # construct predictions\n",
        "    predictions = simple_model_recom_func(scores, topn=n_top)\n",
        "    if verbose: print('predictions done!')\n",
        "\n",
        "    # evaluate metrics on holdout scores\n",
        "    metrics = model_evaluate(predictions, data_holdout, description, topn=n_top)\n",
        "    basic_performance_history.append(metrics)\n",
        "    if verbose: print('metrics done!')\n",
        "        \n",
        "    ## -------------------------------------- update model parameters -------------------------------------\n",
        "    \n",
        "    # update train as data\n",
        "    data_base_current = get_updated_base(data_base_current, data_future_current)\n",
        "    \n",
        "    description['n_users'] = data_base_current['userid'].nunique()\n",
        "    description['n_items'] = data_base_current['itemid'].nunique()\n",
        "    \n",
        "    # recompute SVD factors of train data\n",
        "    start = time.time()\n",
        "    matrix_base_current = to_matrix(data_base_current, description)\n",
        "    params_current = get_svd_model(matrix_base_current, rank)\n",
        "    end = time.time()\n",
        "    \n",
        "    basic_time_history.append(end - start)\n",
        "    if verbose: print('update done!')\n",
        "\n",
        "basic_performance_history = np.array(basic_performance_history)\n",
        "basic_time_history = np.array(basic_time_history)"
      ]
    },
    {
      "cell_type": "markdown",
      "id": "61e5577d",
      "metadata": {
        "id": "61e5577d"
      },
      "source": [
        "### perform experiments with dynamic update of SVD"
      ]
    },
    {
      "cell_type": "code",
      "execution_count": 76,
      "id": "bc276a41",
      "metadata": {
        "id": "bc276a41"
      },
      "outputs": [],
      "source": [
        "description = {\n",
        "    'users': 'userid',\n",
        "    'items': 'itemid',\n",
        "    'feedback': 'rating',\n",
        "    \n",
        "    'n_users': data_base['userid'].nunique(),\n",
        "    'n_items': data_base['itemid'].nunique(),\n",
        "}"
      ]
    },
    {
      "cell_type": "code",
      "execution_count": 77,
      "id": "3e7c0234",
      "metadata": {
        "id": "3e7c0234"
      },
      "outputs": [],
      "source": [
        "data_base_current = data_base.copy()\n",
        "matrix_base_current = to_matrix(data_base_current, description)"
      ]
    },
    {
      "cell_type": "code",
      "execution_count": 78,
      "id": "53efe508",
      "metadata": {
        "colab": {
          "base_uri": "https://localhost:8080/"
        },
        "id": "53efe508",
        "outputId": "ad02d9b2-9f89-4527-b0c3-06ef8b2b8025"
      },
      "outputs": [
        {
          "output_type": "stream",
          "name": "stdout",
          "text": [
            "CPU times: user 34.5 s, sys: 2.19 s, total: 36.7 s\n",
            "Wall time: 19.2 s\n"
          ]
        }
      ],
      "source": [
        "%%time\n",
        "params_current = get_svd_model(matrix_base_current, rank)"
      ]
    },
    {
      "cell_type": "code",
      "execution_count": 79,
      "id": "f4eadcb4",
      "metadata": {
        "ExecuteTime": {
          "end_time": "2022-03-19T09:49:26.491412Z",
          "start_time": "2022-03-19T09:49:26.325406Z"
        },
        "colab": {
          "base_uri": "https://localhost:8080/"
        },
        "id": "f4eadcb4",
        "outputId": "12296d97-ea45-45e9-8761-68e9bf5224c9"
      },
      "outputs": [
        {
          "output_type": "stream",
          "name": "stderr",
          "text": [
            "100%|██████████| 20/20 [04:00<00:00, 12.03s/it]\n"
          ]
        }
      ],
      "source": [
        "dynamic_performance_history = []\n",
        "dynamic_time_history = []\n",
        "\n",
        "verbose = False\n",
        "\n",
        "# splits, start_times, stop_times = get_future_subsets(data_future, n_steps)\n",
        "\n",
        "for split in tqdm(splits):\n",
        "    \n",
        "    ## ------------------------------------------- prepare data -------------------------------------------\n",
        "    \n",
        "    # get current valid\n",
        "    data_future_current = split\n",
        "    \n",
        "    # extract holdout from valid\n",
        "    data_holdout = get_holdout_subset(data_base_current, data_future_current)\n",
        "    \n",
        "    # prepare matrix for holdout users\n",
        "    user_ids_holdout = data_holdout['userid'].values\n",
        "    matrix_observed = matrix_base_current[user_ids_holdout]\n",
        "    \n",
        "    # prepare observed in order to downvote after scoring\n",
        "    data_observed = data_base_current.query('userid in @user_ids_holdout')\n",
        "    \n",
        "    # prepare holdout and observed for evaluating — reindex users\n",
        "    reindex_map = dict(zip(user_ids_holdout, np.arange(len(user_ids_holdout))))\n",
        "    \n",
        "    for _ in [data_holdout, data_observed]:\n",
        "        _.loc[:, 'userid'] = _['userid'].map(reindex_map)\n",
        "        \n",
        "    ## ---------------------------------- perform scoring and evaluation ----------------------------------\n",
        "\n",
        "    # score holdout users\n",
        "    scores = score_svd_model(params_current, matrix_observed)\n",
        "    if verbose: print('scoring done!')\n",
        "    \n",
        "    # downvote items which occured on train\n",
        "    downvote_seen_items(scores, data_observed, description)\n",
        "    \n",
        "    # construct predictions\n",
        "    predictions = simple_model_recom_func(scores, topn=n_top)\n",
        "    if verbose: print('predictions done!')\n",
        "\n",
        "    # evaluate metrics on holdout scores\n",
        "    metrics = model_evaluate(predictions, data_holdout, description, topn=n_top)\n",
        "    dynamic_performance_history.append(metrics)\n",
        "    if verbose: print('metrics done!')\n",
        "        \n",
        "    ## -------------------------------------- update model parameters -------------------------------------\n",
        "        \n",
        "    # count number of new users and items\n",
        "    n_new_users, n_new_items = count_new_users_and_items(data_base_current, data_future_current)\n",
        "    \n",
        "    # update SVD factors using new interactions\n",
        "    start = time.time()\n",
        "    data_new = data_future_current[\n",
        "        data_future_current['userid'].isin(data_base_current['userid'].unique()) & \n",
        "        data_future_current['itemid'].isin(data_base_current['itemid'].unique())\n",
        "    ]\n",
        "    matrix_new = to_matrix(data_new, description)\n",
        "    params_current = update_svd_model_using_interactions(params_current, matrix_new)\n",
        "    end = time.time()\n",
        "    \n",
        "    dynamic_time_history.append(end - start)\n",
        "    \n",
        "    # update train as data\n",
        "    data_base_current = get_updated_base(data_base_current, data_future_current)\n",
        "\n",
        "    description['n_users'] = data_base_current['userid'].nunique()\n",
        "    description['n_items'] = data_base_current['itemid'].nunique()\n",
        "    \n",
        "    # update SVD factors using new users and items\n",
        "    start = time.time()\n",
        "    matrix_base_current = to_matrix(data_base_current, description)\n",
        "    \n",
        "    rows_new, columns_new = matrix_base_current[-n_new_users:, :], matrix_base_current[:, -n_new_items:]\n",
        "    params_current = update_svd_model_using_users_and_items(params_current, rows_new, columns_new)\n",
        "    end = time.time()\n",
        "    \n",
        "    dynamic_time_history[-1] += end - start\n",
        "    if verbose: print('update done!')\n",
        "\n",
        "dynamic_performance_history = np.array(dynamic_performance_history)\n",
        "dynamic_time_history = np.array(dynamic_time_history)"
      ]
    },
    {
      "cell_type": "markdown",
      "id": "cd6bac25",
      "metadata": {
        "id": "cd6bac25"
      },
      "source": [
        "# Compare Results"
      ]
    },
    {
      "cell_type": "code",
      "source": [
        "def plot_metric(metric_name,\n",
        "                stop_times,\n",
        "                basic_value_history,\n",
        "                dynamic_value_history,\n",
        "                n_top=20):\n",
        "  \n",
        "    plt.figure(figsize=(12, 6))\n",
        "\n",
        "    plt.plot(stop_times, basic_value_history, label='basic', marker='o')\n",
        "    plt.plot(stop_times, dynamic_value_history, label='dynamic', marker='o')\n",
        "\n",
        "    plt.title(metric_name + '@{}'.format(n_top), fontsize=14)\n",
        "    plt.legend(fontsize=12)\n",
        "\n",
        "    plt.xticks(stop_times[::2])\n",
        "    plt.xlabel('timestamp', fontsize=12)\n",
        "\n",
        "    plt.grid()\n",
        "    plt.show()"
      ],
      "metadata": {
        "id": "H_IKXd4jRrOu"
      },
      "id": "H_IKXd4jRrOu",
      "execution_count": 81,
      "outputs": []
    },
    {
      "cell_type": "markdown",
      "id": "004c4414",
      "metadata": {
        "id": "004c4414"
      },
      "source": [
        "### HR"
      ]
    },
    {
      "cell_type": "code",
      "execution_count": 87,
      "id": "3a7a0655",
      "metadata": {
        "colab": {
          "base_uri": "https://localhost:8080/",
          "height": 408
        },
        "id": "3a7a0655",
        "outputId": "1da966f6-f45c-4843-95f8-372248e7c73f"
      },
      "outputs": [
        {
          "output_type": "display_data",
          "data": {
            "text/plain": [
              "<Figure size 864x432 with 1 Axes>"
            ],
            "image/png": "[encoded data removed]"
          },
          "metadata": {
            "needs_background": "light"
          }
        }
      ],
      "source": [
        "plot_metric('HR',\n",
        "            stop_times,\n",
        "            basic_performance_history[:, 0],\n",
        "            dynamic_performance_history[:, 0],\n",
        "            n_top=20)"
      ]
    },
    {
      "cell_type": "markdown",
      "id": "cf78d9c8",
      "metadata": {
        "id": "cf78d9c8"
      },
      "source": [
        "### MRR"
      ]
    },
    {
      "cell_type": "code",
      "execution_count": 88,
      "id": "6990c192",
      "metadata": {
        "colab": {
          "base_uri": "https://localhost:8080/",
          "height": 408
        },
        "id": "6990c192",
        "outputId": "20205e05-97d9-40a9-e839-7e8e49f4af76"
      },
      "outputs": [
        {
          "output_type": "display_data",
          "data": {
            "text/plain": [
              "<Figure size 864x432 with 1 Axes>"
            ],
            "image/png": "[encoded data removed]"
          },
          "metadata": {
            "needs_background": "light"
          }
        }
      ],
      "source": [
        "plot_metric('MRR',\n",
        "            stop_times,\n",
        "            basic_performance_history[:, 1],\n",
        "            dynamic_performance_history[:, 1],\n",
        "            n_top=20)"
      ]
    },
    {
      "cell_type": "markdown",
      "id": "6eb43aa3",
      "metadata": {
        "id": "6eb43aa3"
      },
      "source": [
        "### coverage"
      ]
    },
    {
      "cell_type": "code",
      "execution_count": 89,
      "id": "c225fb6f",
      "metadata": {
        "colab": {
          "base_uri": "https://localhost:8080/",
          "height": 408
        },
        "id": "c225fb6f",
        "outputId": "eb541f79-41f5-4bf4-f515-6dede550fc0c"
      },
      "outputs": [
        {
          "output_type": "display_data",
          "data": {
            "text/plain": [
              "<Figure size 864x432 with 1 Axes>"
            ],
            "image/png": "[encoded data removed]"
          },
          "metadata": {
            "needs_background": "light"
          }
        }
      ],
      "source": [
        "plot_metric('coverage',\n",
        "            stop_times,\n",
        "            basic_performance_history[:, 2],\n",
        "            dynamic_performance_history[:, 2],\n",
        "            n_top=20)"
      ]
    },
    {
      "cell_type": "markdown",
      "id": "e25065c6",
      "metadata": {
        "id": "e25065c6"
      },
      "source": [
        "### computation time"
      ]
    },
    {
      "cell_type": "code",
      "execution_count": 91,
      "id": "521b4223",
      "metadata": {
        "colab": {
          "base_uri": "https://localhost:8080/",
          "height": 408
        },
        "id": "521b4223",
        "outputId": "b67b4dda-d7c7-4239-c2a6-7e8acea32fc6"
      },
      "outputs": [
        {
          "output_type": "display_data",
          "data": {
            "text/plain": [
              "<Figure size 864x432 with 1 Axes>"
            ],
            "image/png": "[encoded data removed]"
          },
          "metadata": {
            "needs_background": "light"
          }
        }
      ],
      "source": [
        "plot_metric('time per one iteration, sec',\n",
        "            stop_times,\n",
        "            basic_time_history,\n",
        "            dynamic_time_history,\n",
        "            n_top=20)"
      ]
    }
  ],
  "metadata": {
    "kernelspec": {
      "display_name": "Python 3 (ipykernel)",
      "language": "python",
      "name": "python3"
    },
    "language_info": {
      "codemirror_mode": {
        "name": "ipython",
        "version": 3
      },
      "file_extension": ".py",
      "mimetype": "text/x-python",
      "name": "python",
      "nbconvert_exporter": "python",
      "pygments_lexer": "ipython3",
      "version": "3.7.11"
    },
    "toc": {
      "base_numbering": 1,
      "nav_menu": {},
      "number_sections": true,
      "sideBar": true,
      "skip_h1_title": false,
      "title_cell": "Table of Contents",
      "title_sidebar": "Contents",
      "toc_cell": false,
      "toc_position": {},
      "toc_section_display": true,
      "toc_window_display": false
    },
    "colab": {
      "name": "experiments-workspace.ipynb",
      "provenance": []
    }
  },
  "nbformat": 4,
  "nbformat_minor": 5
}